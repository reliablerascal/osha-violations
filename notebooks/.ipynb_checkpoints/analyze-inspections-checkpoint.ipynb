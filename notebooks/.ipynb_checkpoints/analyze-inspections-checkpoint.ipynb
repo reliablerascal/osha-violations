{
 "cells": [
  {
   "cell_type": "markdown",
   "id": "ea967263",
   "metadata": {},
   "source": [
    "# Analyze OSHA Inspections for Springfield, IL 2018-2022\n",
    "This notebook retri"
   ]
  },
  {
   "cell_type": "code",
   "execution_count": 1,
   "id": "63a94de1",
   "metadata": {},
   "outputs": [],
   "source": [
    "import pandas as pd"
   ]
  },
  {
   "cell_type": "code",
   "execution_count": null,
   "id": "01b63d69",
   "metadata": {},
   "outputs": [],
   "source": []
  }
 ],
 "metadata": {
  "kernelspec": {
   "display_name": "Python 3 (ipykernel)",
   "language": "python",
   "name": "python3"
  },
  "language_info": {
   "codemirror_mode": {
    "name": "ipython",
    "version": 3
   },
   "file_extension": ".py",
   "mimetype": "text/x-python",
   "name": "python",
   "nbconvert_exporter": "python",
   "pygments_lexer": "ipython3",
   "version": "3.10.12"
  }
 },
 "nbformat": 4,
 "nbformat_minor": 5
}
